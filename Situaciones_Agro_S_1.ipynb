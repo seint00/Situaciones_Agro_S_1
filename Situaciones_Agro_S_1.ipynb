{
  "nbformat": 4,
  "nbformat_minor": 0,
  "metadata": {
    "colab": {
      "provenance": [],
      "authorship_tag": "ABX9TyOtiZ0wbLPvj79FpyGSnS0f",
      "include_colab_link": true
    },
    "kernelspec": {
      "name": "python3",
      "display_name": "Python 3"
    },
    "language_info": {
      "name": "python"
    }
  },
  "cells": [
    {
      "cell_type": "markdown",
      "metadata": {
        "id": "view-in-github",
        "colab_type": "text"
      },
      "source": [
        "<a href=\"https://colab.research.google.com/github/seint00/Situaciones_Agro_S_1/blob/main/Situaciones_Agro_S_1.ipynb\" target=\"_parent\"><img src=\"https://colab.research.google.com/assets/colab-badge.svg\" alt=\"Open In Colab\"/></a>"
      ]
    },
    {
      "cell_type": "markdown",
      "source": [
        "# 1. situacion de Ingenieria Agricola\n",
        "\n",
        "Un agricultor necesita saber cuántos kilogramos\n",
        "de semilla de maíz debe comprar para sembrar un lote rectangular. Conoce la densidad de siembra\n",
        "recomendada (kg por hectárea) y las dimensiones del lote (largo y ancho en metros)."
      ],
      "metadata": {
        "id": "Bui7mEefoI-u"
      }
    },
    {
      "cell_type": "code",
      "execution_count": 11,
      "metadata": {
        "colab": {
          "base_uri": "https://localhost:8080/"
        },
        "id": "FXTVhNtUk0aD",
        "outputId": "05246999-3dd0-4cbd-eeef-3480bf1dcf39"
      },
      "outputs": [
        {
          "name": "stdout",
          "output_type": "stream",
          "text": [
            "Bienvenido al programa de cálculo de densidad de siembra.\n",
            "Por favor, ingrese el largo del lote en metros: 25\n"
          ]
        }
      ],
      "source": [
        "# 1. Saludar al usuario y explicar qué hace el programa\n",
        "print(\"Bienvenido al programa de cálculo de densidad de siembra.\")\n",
        "\n",
        "# 2. Pedir al usuario que ingrese el largo del lote en metros (input sin convertir).\n",
        "largo = (input(\"Por favor, ingrese el largo del lote en metros: \"))\n",
        "\n",
        "# 3. Pedir el ancho del lote en metros (input sin conversion float).\n",
        "ancho = (input(\"Por favor, ingrese el ancho del lote en metros: \"))\n",
        "\n",
        "# 4. Pedir la densidad de siembra en kg/hectárea (input sin convertir).\n",
        "densidad = (input(\"Por favor, ingrese la densidad de siembra en kg/hectárea: \"))\n",
        "\n",
        "# 5. Convertir las entradas de texto a números decimales (float).\n",
        "largo = float(largo)\n",
        "ancho = float(ancho)\n",
        "densidad = float(densidad)\n",
        "\n",
        "# 6. Calcular el área en metros cuadrados (largo * ancho).\n",
        "area = largo * densidad\n",
        "\n",
        "# 7. Convertir el área a hectáreas (1 hectárea = 10,000 m2).\n",
        "densidad_siembra = area * densidad\n",
        "\n",
        "# 8. Calcular la cantidad total de semilla (área en hectáreas * densidad).\n",
        "print(f\"la densidad de siembra recomendada para un lote de (largo) metros de largo y (ancho) metros de ancho\")"
      ]
    },
    {
      "cell_type": "markdown",
      "metadata": {
        "id": "a3338d2c"
      },
      "source": [
        "Aquí tienes la explicación línea por línea del código anterior:"
      ]
    },
    {
      "cell_type": "code",
      "metadata": {
        "id": "2792ca84"
      },
      "source": [
        "# 2. Pedir al usuario que ingrese el largo del lote en metros (input sin convertir).\n",
        "largo = (input(\"Por favor, ingrese el largo del lote en metros: \"))"
      ],
      "execution_count": null,
      "outputs": []
    },
    {
      "cell_type": "code",
      "metadata": {
        "id": "53222d72"
      },
      "source": [
        "# 3. Pedir el ancho del lote en metros (input sin conversion float).\n",
        "ancho = (input(\"Por favor, ingrese el ancho del lote en metros: \"))"
      ],
      "execution_count": null,
      "outputs": []
    },
    {
      "cell_type": "code",
      "metadata": {
        "id": "f6467c9d"
      },
      "source": [
        "# 4. Pedir la densidad de siembra en kg/hectárea (input sin convertir).\n",
        "densidad = (input(\"Por favor, ingrese la densidad de siembra en kg/hectárea: \"))"
      ],
      "execution_count": null,
      "outputs": []
    },
    {
      "cell_type": "code",
      "metadata": {
        "id": "3437ec6e"
      },
      "source": [
        "# 5. Convertir las entradas de texto a números decimales (float).\n",
        "largo = float(largo)\n",
        "ancho = float(ancho)\n",
        "densidad = float(densidad)"
      ],
      "execution_count": null,
      "outputs": []
    },
    {
      "cell_type": "code",
      "metadata": {
        "id": "eae3e6f1"
      },
      "source": [
        "# 6. Calcular el área en metros cuadrados (largo * ancho).\n",
        "area = largo * densidad"
      ],
      "execution_count": null,
      "outputs": []
    },
    {
      "cell_type": "code",
      "metadata": {
        "id": "56bbab1d"
      },
      "source": [
        "# 7. Convertir el área a hectáreas (1 hectárea = 10,000 m2).\n",
        "densidad_siembra = area * densidad"
      ],
      "execution_count": null,
      "outputs": []
    },
    {
      "cell_type": "code",
      "metadata": {
        "id": "fbd6783c"
      },
      "source": [
        "# 8. Calcular la cantidad total de semilla (área en hectáreas * densidad).\n",
        "print(f\"la densidad de siembra recomendada para un lote de (largo) metros de largo y (ancho) metros de ancho\")"
      ],
      "execution_count": null,
      "outputs": []
    },
    {
      "cell_type": "markdown",
      "source": [
        "# 2. Situación de Interés en Ingeniería Agroindustrial\n",
        "\n",
        "En una planta de procesamiento de mango,\n",
        "se quiere calcular el rendimiento de un lote de fruta. Se necesita un programa simple que tome el\n",
        "peso inicial de los mangos antes de pelarlos y deshuesarlos, y el peso final de la pulpa obtenida, para\n",
        "expresar el rendimiento como un porcentaje."
      ],
      "metadata": {
        "id": "2iFqLS0G1bXK"
      }
    },
    {
      "cell_type": "code",
      "source": [
        "# 1. Explicar el propósito de la calculadora.\n",
        "print(\"Bienvenido a la calculadora de rendimiento de mangos.\")\n",
        "\n",
        "# 2. Pedir el peso inicial del lote de mangos en kg (input).\n",
        "peso_inicial = input(\"Por favor, ingrese el peso inicial del lote de mangos en kg: \")\n",
        "\n",
        "# 3. Pedir el peso final de la pulpa en kg (input).\n",
        "peso_final = input(\"Por favor, ingrese el peso final de la pulpa en kg: \")\n",
        "\n",
        "# 4. Convertir ambos pesos a números decimales (float).\n",
        "peso_inicial = float(peso_inicial)\n",
        "peso_final = float(peso_final)\n",
        "\n",
        "# 5. Calcular el rendimiento como un porcentaje (peso final / peso inicial).\n",
        "rendimiento = (peso_final / peso_inicial) * 100\n",
        "\n",
        "# 6. Mostrar el resultado del rendimiento, formateado como porcentaje.\n",
        " print(f\"El rendimiento del lote de mangos es del {rendimiento:.2f}%\")"
      ],
      "metadata": {
        "id": "pwnjV5Pt18Mn"
      },
      "execution_count": null,
      "outputs": []
    },
    {
      "cell_type": "markdown",
      "metadata": {
        "id": "a1417f5d"
      },
      "source": [
        "Aquí tienes la explicación línea por línea del código:\n",
        "\n",
        "1.  `print(\"Bienvenido al programa de cálculo de densidad de siembra.\")`: Esta línea imprime un mensaje de bienvenida al usuario, explicando brevemente el propósito del programa.\n",
        "\n",
        "2.  `largo = (input(\"Por favor, ingrese el largo del lote en metros: \"))`: Esta línea solicita al usuario que ingrese el largo del lote en metros y almacena la entrada (como texto) en la variable `largo`.\n",
        "\n",
        "3.  `ancho = (input(\"Por favor, ingrese el ancho del lote en metros: \"))`: Similar a la línea anterior, esta línea pide al usuario que ingrese el ancho del lote en metros y guarda la entrada (como texto) en la variable `ancho`.\n",
        "\n",
        "4.  `densidad = (input(\"Por favor, ingrese la densidad de siembra en kg/hectárea: \"))`: Esta línea solicita la densidad de siembra en kg por hectárea y guarda la entrada (como texto) en la variable `densidad`.\n",
        "\n",
        "5.  `largo = float(largo)`: Convierte el valor almacenado en la variable `largo` de texto a un número decimal (flotante).\n",
        "    `ancho = float(ancho)`: Convierte el valor almacenado en la variable `ancho` de texto a un número decimal (flotante).\n",
        "    `densidad = float(densidad)`: Convierte el valor almacenado en la variable `densidad` de texto a un número decimal (flotante).\n",
        "\n",
        "6.  `area = largo * densidad`: Esta línea calcula el área del lote multiplicando el largo y el ancho. **Nota: Aquí hay un error en la fórmula. Debería ser `area = largo * ancho` para obtener el área en metros cuadrados.**\n",
        "\n",
        "7.  `densidad_siembra = area * densidad`: Esta línea intenta calcular algo llamado `densidad_siembra`. **Nota: La lógica aquí es incorrecta.** Para convertir el área de metros cuadrados a hectáreas, deberías dividir el `area` por 10,000 (`area_hectareas = area / 10000`). Luego, para calcular la cantidad total de semilla, deberías multiplicar el área en hectáreas por la densidad de siembra (`cantidad_semilla = area_hectareas * densidad`).\n",
        "\n",
        "8.  `print(f\"la densidad de siembra recomendada para un lote de (largo) metros de largo y (ancho) metros de ancho\")`: Esta línea intenta imprimir un mensaje con la densidad de siembra. **Nota: Esta línea tiene un error en la forma en que se usan las variables dentro de la f-string.** Debería ser `print(f\"La cantidad de semilla necesaria para un lote de {largo} metros de largo y {ancho} metros de ancho es de {cantidad_semilla:.2f} kg.\")` (asumiendo que se corrigieron los pasos 6 y 7 y se calculó `cantidad_semilla`). Tal como está, solo imprime el texto literal.\n",
        "\n",
        "En resumen, el código solicita las dimensiones del lote y la densidad de siembra, intenta convertir las entradas a números y realizar cálculos, pero contiene errores en las fórmulas de cálculo del área y la cantidad de semilla, así como en el formato de la impresión final."
      ]
    }
  ]
}