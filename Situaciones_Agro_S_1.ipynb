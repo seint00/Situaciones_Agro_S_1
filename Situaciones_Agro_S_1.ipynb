{
  "nbformat": 4,
  "nbformat_minor": 0,
  "metadata": {
    "colab": {
      "provenance": [],
      "authorship_tag": "ABX9TyNEBP4GlgzH4Ca8lZkR9NP+",
      "include_colab_link": true
    },
    "kernelspec": {
      "name": "python3",
      "display_name": "Python 3"
    },
    "language_info": {
      "name": "python"
    }
  },
  "cells": [
    {
      "cell_type": "markdown",
      "metadata": {
        "id": "view-in-github",
        "colab_type": "text"
      },
      "source": [
        "<a href=\"https://colab.research.google.com/github/seint00/Situaciones_Agro_S_1/blob/main/Situaciones_Agro_S_1.ipynb\" target=\"_parent\"><img src=\"https://colab.research.google.com/assets/colab-badge.svg\" alt=\"Open In Colab\"/></a>"
      ]
    },
    {
      "cell_type": "markdown",
      "source": [
        "# situacion de Ingenieria Agricola\n",
        "\n",
        "Un agricultor necesita saber cuántos kilogramos\n",
        "de semilla de maíz debe comprar para sembrar un lote rectangular. Conoce la densidad de siembra\n",
        "recomendada (kg por hectárea) y las dimensiones del lote (largo y ancho en metros)."
      ],
      "metadata": {
        "id": "Bui7mEefoI-u"
      }
    },
    {
      "cell_type": "code",
      "execution_count": 11,
      "metadata": {
        "colab": {
          "base_uri": "https://localhost:8080/"
        },
        "id": "FXTVhNtUk0aD",
        "outputId": "05246999-3dd0-4cbd-eeef-3480bf1dcf39"
      },
      "outputs": [
        {
          "name": "stdout",
          "output_type": "stream",
          "text": [
            "Bienvenido al programa de cálculo de densidad de siembra.\n",
            "Por favor, ingrese el largo del lote en metros: 25\n"
          ]
        }
      ],
      "source": [
        "# 1. Saludar al usuario y explicar qué hace el programa\n",
        "print(\"Bienvenido al programa de cálculo de densidad de siembra.\")\n",
        "\n",
        "# 2. Pedir al usuario que ingrese el largo del lote en metros (input sin convertir).\n",
        "largo = (input(\"Por favor, ingrese el largo del lote en metros: \"))\n",
        "\n",
        "# 3. Pedir el ancho del lote en metros (input sin conversion float).\n",
        "ancho = (input(\"Por favor, ingrese el ancho del lote en metros: \"))\n",
        "\n",
        "# 4. Pedir la densidad de siembra en kg/hectárea (input sin convertir).\n",
        "densidad = (input(\"Por favor, ingrese la densidad de siembra en kg/hectárea: \"))\n",
        "\n",
        "# 5. Convertir las entradas de texto a números decimales (float).\n",
        "largo = float(largo)\n",
        "ancho = float(ancho)\n",
        "densidad = float(densidad)\n",
        "\n",
        "# 6. Calcular el área en metros cuadrados (largo * ancho).\n",
        "area = largo * densidad\n",
        "\n",
        "# 7. Convertir el área a hectáreas (1 hectárea = 10,000 m2).\n",
        "densidad_siembra = area * densidad\n",
        "\n",
        "# 8. Calcular la cantidad total de semilla (área en hectáreas * densidad).\n",
        "print(f\"la densidad de siembra recomendada para un lote de (largo) metros de largo y (ancho) metros de ancho\")"
      ]
    },
    {
      "cell_type": "markdown",
      "metadata": {
        "id": "a3338d2c"
      },
      "source": [
        "Aquí tienes la explicación línea por línea del código anterior:"
      ]
    },
    {
      "cell_type": "code",
      "metadata": {
        "id": "2792ca84"
      },
      "source": [
        "# 2. Pedir al usuario que ingrese el largo del lote en metros (input sin convertir).\n",
        "largo = (input(\"Por favor, ingrese el largo del lote en metros: \"))"
      ],
      "execution_count": null,
      "outputs": []
    },
    {
      "cell_type": "code",
      "metadata": {
        "id": "53222d72"
      },
      "source": [
        "# 3. Pedir el ancho del lote en metros (input sin conversion float).\n",
        "ancho = (input(\"Por favor, ingrese el ancho del lote en metros: \"))"
      ],
      "execution_count": null,
      "outputs": []
    },
    {
      "cell_type": "code",
      "metadata": {
        "id": "f6467c9d"
      },
      "source": [
        "# 4. Pedir la densidad de siembra en kg/hectárea (input sin convertir).\n",
        "densidad = (input(\"Por favor, ingrese la densidad de siembra en kg/hectárea: \"))"
      ],
      "execution_count": null,
      "outputs": []
    },
    {
      "cell_type": "code",
      "metadata": {
        "id": "3437ec6e"
      },
      "source": [
        "# 5. Convertir las entradas de texto a números decimales (float).\n",
        "largo = float(largo)\n",
        "ancho = float(ancho)\n",
        "densidad = float(densidad)"
      ],
      "execution_count": null,
      "outputs": []
    },
    {
      "cell_type": "code",
      "metadata": {
        "id": "eae3e6f1"
      },
      "source": [
        "# 6. Calcular el área en metros cuadrados (largo * ancho).\n",
        "area = largo * densidad"
      ],
      "execution_count": null,
      "outputs": []
    },
    {
      "cell_type": "code",
      "metadata": {
        "id": "56bbab1d"
      },
      "source": [
        "# 7. Convertir el área a hectáreas (1 hectárea = 10,000 m2).\n",
        "densidad_siembra = area * densidad"
      ],
      "execution_count": null,
      "outputs": []
    },
    {
      "cell_type": "code",
      "metadata": {
        "id": "fbd6783c"
      },
      "source": [
        "# 8. Calcular la cantidad total de semilla (área en hectáreas * densidad).\n",
        "print(f\"la densidad de siembra recomendada para un lote de (largo) metros de largo y (ancho) metros de ancho\")"
      ],
      "execution_count": null,
      "outputs": []
    }
  ]
}